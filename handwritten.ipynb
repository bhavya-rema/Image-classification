{
  "nbformat": 4,
  "nbformat_minor": 0,
  "metadata": {
    "colab": {
      "name": "handwritten.ipynb",
      "provenance": []
    },
    "kernelspec": {
      "name": "python3",
      "display_name": "Python 3"
    }
  },
  "cells": [
    {
      "cell_type": "code",
      "metadata": {
        "id": "_GUGxGl0ppT2"
      },
      "source": [
        "import tensorflow as tf\r\n",
        "from tensorflow import keras\r\n",
        "import matplotlib.pyplot as plt\r\n",
        "%matplotlib inline\r\n",
        "import numpy as np"
      ],
      "execution_count": 26,
      "outputs": []
    },
    {
      "cell_type": "code",
      "metadata": {
        "id": "Ut_x7Rjkp4hw"
      },
      "source": [
        "\r\n",
        "(X_train, y_train) , (X_test, y_test) = keras.datasets.mnist.load_data()"
      ],
      "execution_count": 27,
      "outputs": []
    },
    {
      "cell_type": "code",
      "metadata": {
        "colab": {
          "base_uri": "https://localhost:8080/"
        },
        "id": "DodBr72qp9re",
        "outputId": "c5d071f4-0022-4575-fc7e-daf36a575bad"
      },
      "source": [
        "X_train = X_train / 255\r\n",
        "X_test = X_test / 255\r\n",
        "X_train.shape"
      ],
      "execution_count": 28,
      "outputs": [
        {
          "output_type": "execute_result",
          "data": {
            "text/plain": [
              "(60000, 28, 28)"
            ]
          },
          "metadata": {
            "tags": []
          },
          "execution_count": 28
        }
      ]
    },
    {
      "cell_type": "code",
      "metadata": {
        "colab": {
          "base_uri": "https://localhost:8080/"
        },
        "id": "-gG_SeK-qCT3",
        "outputId": "7e5f6bea-f4f6-4227-bab1-2a64afd8e4da"
      },
      "source": [
        "X_test.shape"
      ],
      "execution_count": 29,
      "outputs": [
        {
          "output_type": "execute_result",
          "data": {
            "text/plain": [
              "(10000, 28, 28)"
            ]
          },
          "metadata": {
            "tags": []
          },
          "execution_count": 29
        }
      ]
    },
    {
      "cell_type": "code",
      "metadata": {
        "colab": {
          "base_uri": "https://localhost:8080/",
          "height": 282
        },
        "id": "syq_SwjRrEAj",
        "outputId": "e1c95aa0-6f19-457e-84e5-284dec63de8c"
      },
      "source": [
        "plt.imshow(X_train[0])\r\n",
        "y_train[0]"
      ],
      "execution_count": 30,
      "outputs": [
        {
          "output_type": "execute_result",
          "data": {
            "text/plain": [
              "5"
            ]
          },
          "metadata": {
            "tags": []
          },
          "execution_count": 30
        },
        {
          "output_type": "display_data",
          "data": {
            "image/png": "[encoded data removed]",
            "text/plain": [
              "<Figure size 432x288 with 1 Axes>"
            ]
          },
          "metadata": {
            "tags": [],
            "needs_background": "light"
          }
        }
      ]
    },
    {
      "cell_type": "code",
      "metadata": {
        "colab": {
          "base_uri": "https://localhost:8080/"
        },
        "id": "2CQi4OoEsITV",
        "outputId": "408ffbbd-a98d-4b8f-e36f-9e9a9ce7a438"
      },
      "source": [
        "\r\n",
        "X_train_flattened = X_train.reshape(len(X_train), 28*28)\r\n",
        "X_test_flattened = X_test.reshape(len(X_test), 28*28)\r\n",
        "\r\n",
        "X_train_flattened.shape"
      ],
      "execution_count": 31,
      "outputs": [
        {
          "output_type": "execute_result",
          "data": {
            "text/plain": [
              "(60000, 784)"
            ]
          },
          "metadata": {
            "tags": []
          },
          "execution_count": 31
        }
      ]
    },
    {
      "cell_type": "code",
      "metadata": {
        "id": "MG_y1yogZaYo"
      },
      "source": [
        "model = keras.Sequential()"
      ],
      "execution_count": 32,
      "outputs": []
    },
    {
      "cell_type": "code",
      "metadata": {
        "colab": {
          "base_uri": "https://localhost:8080/"
        },
        "id": "2mfv6LyyZl-9",
        "outputId": "2bb30ae1-27c0-4b55-ee45-c0431aa8ee82"
      },
      "source": [
        "model.add(keras.layers.Dense(100, input_shape =(784,), activation='relu'))\r\n",
        "model.add(keras.layers.Dense(10, activation='sigmoid'))\r\n",
        "\r\n",
        "model.compile(optimizer= 'adam',\r\n",
        "              loss = 'sparse_categorical_crossentropy',\r\n",
        "              metrics=['accuracy'])\r\n",
        "model.fit(X_train_flattened,y_train,epochs=10)"
      ],
      "execution_count": 33,
      "outputs": [
        {
          "output_type": "stream",
          "text": [
            "Epoch 1/10\n",
            "1875/1875 [==============================] - 4s 2ms/step - loss: 0.4536 - accuracy: 0.8726\n",
            "Epoch 2/10\n",
            "1875/1875 [==============================] - 4s 2ms/step - loss: 0.1342 - accuracy: 0.9608\n",
            "Epoch 3/10\n",
            "1875/1875 [==============================] - 4s 2ms/step - loss: 0.0898 - accuracy: 0.9730\n",
            "Epoch 4/10\n",
            "1875/1875 [==============================] - 3s 2ms/step - loss: 0.0656 - accuracy: 0.9802\n",
            "Epoch 5/10\n",
            "1875/1875 [==============================] - 3s 2ms/step - loss: 0.0520 - accuracy: 0.9835\n",
            "Epoch 6/10\n",
            "1875/1875 [==============================] - 4s 2ms/step - loss: 0.0387 - accuracy: 0.9883\n",
            "Epoch 7/10\n",
            "1875/1875 [==============================] - 4s 2ms/step - loss: 0.0321 - accuracy: 0.9907\n",
            "Epoch 8/10\n",
            "1875/1875 [==============================] - 3s 2ms/step - loss: 0.0260 - accuracy: 0.9920\n",
            "Epoch 9/10\n",
            "1875/1875 [==============================] - 3s 2ms/step - loss: 0.0214 - accuracy: 0.9937\n",
            "Epoch 10/10\n",
            "1875/1875 [==============================] - 4s 2ms/step - loss: 0.0174 - accuracy: 0.9946\n"
          ],
          "name": "stdout"
        },
        {
          "output_type": "execute_result",
          "data": {
            "text/plain": [
              "<tensorflow.python.keras.callbacks.History at 0x7f22e7d85518>"
            ]
          },
          "metadata": {
            "tags": []
          },
          "execution_count": 33
        }
      ]
    },
    {
      "cell_type": "code",
      "metadata": {
        "colab": {
          "base_uri": "https://localhost:8080/"
        },
        "id": "Ip59xmq5cQWZ",
        "outputId": "a0dcd367-38b0-48ed-c386-f0b7efe1e1d0"
      },
      "source": [
        "model.evaluate(X_test_flattened, y_test)\r\n",
        "y_predicted = model.predict(X_test_flattened)\r\n",
        "predout     = np.argmax(y_predicted,axis=1)\r\n",
        "predout"
      ],
      "execution_count": 34,
      "outputs": [
        {
          "output_type": "stream",
          "text": [
            "313/313 [==============================] - 0s 1ms/step - loss: 0.0832 - accuracy: 0.9765\n"
          ],
          "name": "stdout"
        },
        {
          "output_type": "execute_result",
          "data": {
            "text/plain": [
              "array([7, 2, 1, ..., 4, 5, 6])"
            ]
          },
          "metadata": {
            "tags": []
          },
          "execution_count": 34
        }
      ]
    },
    {
      "cell_type": "code",
      "metadata": {
        "colab": {
          "base_uri": "https://localhost:8080/"
        },
        "id": "UbYi5jWldwxs",
        "outputId": "3d8eff8a-7468-4d73-db7a-f747b0447b27"
      },
      "source": [
        "conf_matrix = tf.math.confusion_matrix(y_test,predout)\r\n",
        "conf_matrix"
      ],
      "execution_count": 35,
      "outputs": [
        {
          "output_type": "execute_result",
          "data": {
            "text/plain": [
              "<tf.Tensor: shape=(10, 10), dtype=int32, numpy=\n",
              "array([[ 969,    1,    0,    1,    3,    0,    2,    1,    3,    0],\n",
              "       [   0, 1127,    3,    1,    0,    0,    2,    0,    2,    0],\n",
              "       [   1,    0, 1010,    4,    7,    0,    1,    5,    2,    2],\n",
              "       [   0,    1,    5,  983,    0,    8,    0,    3,    3,    7],\n",
              "       [   0,    0,    3,    0,  968,    0,    3,    0,    1,    7],\n",
              "       [   2,    2,    0,    5,    2,  872,    3,    0,    4,    2],\n",
              "       [   5,    3,    3,    1,    8,    7,  928,    0,    3,    0],\n",
              "       [   0,    7,   13,    3,    4,    1,    0,  986,    2,   12],\n",
              "       [   4,    0,    9,    9,    6,    3,    2,    1,  935,    5],\n",
              "       [   1,    3,    0,    3,    9,    1,    0,    5,    0,  987]],\n",
              "      dtype=int32)>"
            ]
          },
          "metadata": {
            "tags": []
          },
          "execution_count": 35
        }
      ]
    }
  ]
}